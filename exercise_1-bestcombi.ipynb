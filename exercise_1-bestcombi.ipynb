{
 "cells": [
  {
   "cell_type": "code",
   "execution_count": 1,
   "metadata": {
    "colab": {},
    "colab_type": "code",
    "id": "yPxz8JXwo43L"
   },
   "outputs": [],
   "source": [
    "import numpy as np\n",
    "import _pickle as cPickle\n",
    "import os\n",
    "import gzip\n",
    "import matplotlib.pyplot as plt"
   ]
  },
  {
   "cell_type": "markdown",
   "metadata": {
    "colab_type": "text",
    "id": "kjsO5A2Bo43c"
   },
   "source": [
    "# First exercise: Classifying MNIST with MLPs\n",
    "In this exercise you will implement a Neural Network (or MLP) and classify the MNIST digits with it.\n",
    "MNIST is a \"well hung\" dataset that has been used a lot over the years to benchmark different classification algorithms. \n",
    "To learn more about it have a look here: http://yann.lecun.com/exdb/mnist/ ."
   ]
  },
  {
   "cell_type": "markdown",
   "metadata": {
    "colab_type": "text",
    "id": "bfO3wn1fo43e"
   },
   "source": [
    "# Data Loading\n",
    "We first define a function for downloading and loading MNIST.\n",
    "**WARNING**: Executing it will obviously use up some space on your machine ;). "
   ]
  },
  {
   "cell_type": "code",
   "execution_count": 2,
   "metadata": {
    "colab": {},
    "colab_type": "code",
    "id": "7IXTZBcNo43h"
   },
   "outputs": [],
   "source": [
    "def mnist(datasets_dir='./data'):\n",
    "    if not os.path.exists(datasets_dir):\n",
    "        os.mkdir(datasets_dir)\n",
    "    data_file = os.path.join(datasets_dir, 'mnist.pkl.gz')\n",
    "    if not os.path.exists(data_file):\n",
    "        print('... downloading MNIST from the web')\n",
    "        try:\n",
    "            import urllib\n",
    "            urllib.urlretrieve('http://google.com')\n",
    "        except AttributeError:\n",
    "            import urllib.request as urllib\n",
    "        url = 'http://www.iro.umontreal.ca/~lisa/deep/data/mnist/mnist.pkl.gz'\n",
    "        urllib.urlretrieve(url, data_file)\n",
    "\n",
    "    print('... loading data')\n",
    "    # Load the dataset\n",
    "    f = gzip.open(data_file, 'rb')\n",
    "    try:\n",
    "        train_set, valid_set, test_set = cPickle.load(f, encoding=\"latin1\")\n",
    "    except TypeError:\n",
    "        train_set, valid_set, test_set = cPickle.load(f)\n",
    "    f.close()\n",
    "\n",
    "    test_x, test_y = test_set\n",
    "    test_x = test_x.astype('float32')\n",
    "    test_x = test_x.astype('float32').reshape(test_x.shape[0], 1, 28, 28)\n",
    "    test_y = test_y.astype('int32')\n",
    "    valid_x, valid_y = valid_set\n",
    "    valid_x = valid_x.astype('float32')\n",
    "    valid_x = valid_x.astype('float32').reshape(valid_x.shape[0], 1, 28, 28)\n",
    "    valid_y = valid_y.astype('int32')\n",
    "    train_x, train_y = train_set\n",
    "    train_x = train_x.astype('float32').reshape(train_x.shape[0], 1, 28, 28)\n",
    "    train_y = train_y.astype('int32')\n",
    "    rval = [(train_x, train_y), (valid_x, valid_y), (test_x, test_y)]\n",
    "    print('... done loading data')\n",
    "    return rval"
   ]
  },
  {
   "cell_type": "markdown",
   "metadata": {
    "colab_type": "text",
    "id": "uk0cbUwwo43o"
   },
   "source": [
    "# Neural Network Layers\n",
    "We now define \"bare bone\" neural network layers.\n",
    "The parts marked with **TODO** are where you should finish the implementation!\n",
    "Conceptually we will implement the layers as follows:\n",
    "\n",
    "Each layer has a constructor that takes an input layer plus some additional arguments such as layer size and the activation function name. The layer then uses the provided input layer to compute the layer dimensions, weight shapes, etc. and setup all auxilliary variables.\n",
    "\n",
    "Each layer then has to provide three functions (as defined in the Layer class below): *output_shape()*, *fprop()* and *brop()*. The output_shape function is used to figure out the shape for the next layer and the *fprop()/bprop()* functions are used to compute forward and backward passes through the network."
   ]
  },
  {
   "cell_type": "code",
   "execution_count": 3,
   "metadata": {
    "colab": {},
    "colab_type": "code",
    "id": "1cWYMwM9o43q"
   },
   "outputs": [],
   "source": [
    "# start by defining simple helpers\n",
    "def sigmoid(x):\n",
    "    return 1.0/(1.0+np.exp(-x))\n",
    "\n",
    "def sigmoid_d(x):\n",
    "    return sigmoid(x)*(1-sigmoid(x))\n",
    "\n",
    "def tanh(x):\n",
    "    return np.tanh(x)\n",
    "\n",
    "def tanh_d(x):\n",
    "    return 1 -(tanh(x) * tanh(x))\n",
    "\n",
    "def relu(x):\n",
    "    return np.maximum(0.0, x)\n",
    "\n",
    "def relu_d(x):\n",
    "    return (relu(x)>0).astype(float)\n",
    "\n",
    "def softmax(x, axis=1):\n",
    "    # to make the softmax a \"safe\" operation we will \n",
    "    # first subtract the maximum along the specified axis\n",
    "    # so that np.exp(x) does not blow up!\n",
    "    # Note that this does not change the output.\n",
    "    x_max = np.max(x, axis=axis, keepdims=True)\n",
    "    x_safe = x - x_max\n",
    "    e_x = np.exp(x_safe)\n",
    "    return e_x / np.sum(e_x, axis=axis, keepdims=True)\n",
    "\n",
    "def one_hot(labels):\n",
    "    \"\"\"this creates a one hot encoding from a flat vector:\n",
    "    i.e. given y = [0,2,1]\n",
    "     it creates y_one_hot = [[1,0,0], [0,0,1], [0,1,0]]\n",
    "    \"\"\"\n",
    "    classes = np.unique(labels)\n",
    "    n_classes = classes.size\n",
    "    one_hot_labels = np.zeros(labels.shape + (n_classes,))\n",
    "    for c in classes:\n",
    "        one_hot_labels[labels == c, c] = 1\n",
    "    return one_hot_labels\n",
    "\n",
    "def unhot(one_hot_labels):\n",
    "    \"\"\" Invert a one hot encoding, creating a flat vector \"\"\"\n",
    "    return np.argmax(one_hot_labels, axis=-1)\n",
    "\n",
    "# then define an activation function class\n",
    "class Activation(object):\n",
    "    \n",
    "    def __init__(self, tname):\n",
    "        if tname == 'sigmoid':\n",
    "            self.act = sigmoid\n",
    "            self.act_d = sigmoid_d\n",
    "        elif tname == 'tanh':\n",
    "            self.act = tanh\n",
    "            self.act_d = tanh_d\n",
    "        elif tname == 'relu':\n",
    "            self.act = relu\n",
    "            self.act_d = relu_d\n",
    "        else:\n",
    "            raise ValueError('Invalid activation function.')\n",
    "            \n",
    "    def fprop(self, input):\n",
    "        # we need to remember the last input\n",
    "        # so that we can calculate the derivative with respect\n",
    "        # to it later on\n",
    "        self.last_input = input\n",
    "        return self.act(input)\n",
    "    \n",
    "    def bprop(self, output_grad):\n",
    "        return output_grad * self.act_d(self.last_input)\n",
    "\n",
    "# define a base class for layers\n",
    "class Layer(object):\n",
    "    \n",
    "    def fprop(self, input):\n",
    "        \"\"\" Calculate layer output for given input \n",
    "            (forward propagation). \n",
    "        \"\"\"\n",
    "        raise NotImplementedError('This is an interface class, please use a derived instance')\n",
    "\n",
    "    def bprop(self, output_grad):\n",
    "        \"\"\" Calculate input gradient and gradient \n",
    "            with respect to weights and bias (backpropagation). \n",
    "        \"\"\"\n",
    "        raise NotImplementedError('This is an interface class, please use a derived instance')\n",
    "\n",
    "    def output_size(self):\n",
    "        \"\"\" Calculate size of this layer's output.\n",
    "        input_shape[0] is the number of samples in the input.\n",
    "        input_shape[1:] is the shape of the feature.\n",
    "        \"\"\"\n",
    "        raise NotImplementedError('This is an interface class, please use a derived instance')\n",
    "\n",
    "# define a base class for loss outputs\n",
    "# an output layer can then simply be derived\n",
    "# from both Layer and Loss \n",
    "class Loss(object):\n",
    "\n",
    "    def loss(self, output, output_net):\n",
    "        \"\"\" Calculate mean loss given real output and network output. \"\"\"\n",
    "        raise NotImplementedError('This is an interface class, please use a derived instance')\n",
    "\n",
    "    def input_grad(self, output, output_net):\n",
    "        \"\"\" Calculate input gradient real output and network output. \"\"\"\n",
    "        raise NotImplementedError('This is an interface class, please use a derived instance')\n",
    "\n",
    "# define a base class for parameterized things        \n",
    "class Parameterized(object):\n",
    "    \n",
    "    def params(self):\n",
    "        \"\"\" Return parameters (by reference) \"\"\"\n",
    "        raise NotImplementedError('This is an interface class, please use a derived instance')\n",
    "    \n",
    "    def grad_params(self):\n",
    "        \"\"\" Return accumulated gradient with respect to params. \"\"\"\n",
    "        raise NotImplementedError('This is an interface class, please use a derived instance')\n",
    "\n",
    "# define a container for providing input to the network\n",
    "class InputLayer(Layer):\n",
    "    \n",
    "    def __init__(self, input_shape):\n",
    "        if not isinstance(input_shape, tuple):\n",
    "            raise ValueError(\"InputLayer requires input_shape as a tuple\")\n",
    "        self.input_shape = input_shape\n",
    "\n",
    "    def output_size(self):\n",
    "        return self.input_shape\n",
    "    \n",
    "    def fprop(self, input):\n",
    "        return input\n",
    "    \n",
    "    def bprop(self, output_grad):\n",
    "        return output_grad\n",
    "        \n",
    "class FullyConnectedLayer(Layer, Parameterized):\n",
    "    \"\"\" A standard fully connected hidden layer, as discussed in the lecture.\n",
    "    \"\"\"\n",
    "    \n",
    "    def __init__(self, input_layer, num_units, \n",
    "                 init_stddev, activation_fun=Activation('relu')):\n",
    "        self.num_units = num_units\n",
    "        self.activation_fun = activation_fun\n",
    "        self.input_shape = input_layer.output_size()\n",
    "        self.W = np.random.normal(0,init_stddev,(self.input_shape[1],self.num_units))\n",
    "        self.b = np.zeros(self.num_units)\n",
    "        #self.b = np.random.normal(0, init_stddev, self.num_units)\n",
    "        # create dummy variables for parameter gradients\n",
    "        # no need to change these here!\n",
    "        self.dW = None\n",
    "        self.db = None\n",
    "    \n",
    "    def output_size(self):\n",
    "        return (self.input_shape[0], self.num_units)\n",
    "    \n",
    "    def fprop(self, input):\n",
    "        self.last_input = input\n",
    "        # NOTE: Use numpy dot product\n",
    "        # h = t(a), a = W * x + b \n",
    "        a= np.dot(input, self.W) + self.b   \n",
    "        \n",
    "        if self.activation_fun is not None:\n",
    "            return self.activation_fun.fprop(a)\n",
    "        else:\n",
    "            return (a)\n",
    "        \n",
    "    def bprop(self, output_grad):\n",
    "        \"\"\" Calculate input gradient (backpropagation). \"\"\"\n",
    "        n = output_grad.shape[0]\n",
    "        if self.activation_fun is not None:\n",
    "            prev= self.activation_fun.bprop(output_grad)\n",
    "        else:\n",
    "            prev = output_grad\n",
    "\n",
    "        # NOTE: self.dW is also a numpy dot product\n",
    "        # the gradient wrt. W should be stored as self.dW       \n",
    "        self.dW = np.dot(self.last_input.T, prev)\n",
    "        # the gradient wrt. b should be stored as selfdb\n",
    "        self.db = np.mean(prev, axis = 0)\n",
    "        # the gradient wrt. the input should be calculated here\n",
    "        grad_input = np.dot(prev,self.W.T)\n",
    "        return grad_input \n",
    "        \n",
    "    def params(self):\n",
    "        return self.W, self.b\n",
    "\n",
    "    def grad_params(self):\n",
    "        return self.dW, self.db\n",
    "\n",
    "# finally we specify the interface for output layers \n",
    "# which are layers that also have a loss function\n",
    "# we will implement two output layers:\n",
    "#  a Linear, and Softmax (Logistic Regression) layer\n",
    "# The difference between output layers and and normal \n",
    "# layers is that they will be called to compute the gradient\n",
    "# of the loss through input_grad(). bprop will never \n",
    "# be called on them!\n",
    "class LinearOutput(Layer, Loss):\n",
    "    \"\"\" A simple linear output layer that  \n",
    "        uses a squared loss (e.g. should be used for regression)\n",
    "    \"\"\"\n",
    "    def __init__(self, input_layer):\n",
    "        self.input_size = input_layer.output_size()\n",
    "        \n",
    "    def output_size(self):\n",
    "        return (1,)\n",
    "        \n",
    "    def fprop(self, input):\n",
    "        return input\n",
    "\n",
    "    def bprop(self, output_grad):\n",
    "        raise NotImplementedError(\n",
    "            'LinearOutput should only be used as the last layer of a Network'\n",
    "            + ' bprop() should thus never be called on it!'\n",
    "        )\n",
    "    \n",
    "    def input_grad(self, Y, Y_pred):\n",
    "        # derivate of 1/2||Y-Y_Predict||^2 2\n",
    "        return -(Y - Y_pred)\n",
    "\n",
    "    def loss(self, Y, Y_pred):\n",
    "        loss = 0.5 * np.square(Y_pred - Y)\n",
    "        return np.mean(np.sum(loss, axis=1))\n",
    "\n",
    "class SoftmaxOutput(Layer, Loss):\n",
    "    \"\"\" A softmax output layer that calculates \n",
    "        the negative log likelihood as loss\n",
    "        and should be used for classification.\n",
    "    \"\"\"\n",
    "    \n",
    "    def __init__(self, input_layer):\n",
    "        self.input_size = input_layer.output_size()\n",
    "        \n",
    "    def output_size(self):\n",
    "        return (1,)\n",
    "    \n",
    "    def fprop(self, input):\n",
    "        return softmax(input)\n",
    "    \n",
    "    def bprop(self, output_grad):\n",
    "        raise NotImplementedError(\n",
    "            'SoftmaxOutput should only be used as the last layer of a Network'\n",
    "            + ' bprop() should thus never be called on it!'\n",
    "        )\n",
    "    \n",
    "    def input_grad(self, Y, Y_pred):\n",
    "        out_grad = (Y_pred-Y)/Y_pred.shape[0]\n",
    "        return out_grad\n",
    "\n",
    "    def loss(self, Y, Y_pred):\n",
    "        # Assume one-hot encoding of Y\n",
    "        out = Y_pred\n",
    "        # to make the loss numerically stable \n",
    "        # you should add an epsilon in the log ;)\n",
    "        eps = 1e-10\n",
    "        #loss = -np.sum(Y * np.log(Y_pred + eps))\n",
    "        #return np.mean(loss/ Y_pred.shape[0])\n",
    "        return np.mean(-np.sum(Y * np.log(Y_pred + eps)/ Y_pred.shape[0]))\n",
    "        "
   ]
  },
  {
   "cell_type": "markdown",
   "metadata": {
    "colab_type": "text",
    "id": "haMCZuPso43y"
   },
   "source": [
    "# Neural Network class\n",
    "With all layers in place (and properly implemented by you) we can finally define a neural network.\n",
    "For our purposes a neural network is simply a collection of layers which we will cycle through and on which we will call fprop and bprop to compute partial derivatives with respect to the input and the parameters.\n",
    "\n",
    "Pay special attention to the *check_gradients()* function in which you should implement automatic differentiation. This function will become your best friend when checking the correctness of your implementation."
   ]
  },
  {
   "cell_type": "code",
   "execution_count": 4,
   "metadata": {
    "colab": {},
    "colab_type": "code",
    "id": "X97vI3pNo43z"
   },
   "outputs": [],
   "source": [
    "\n",
    "class NeuralNetwork:\n",
    "    \"\"\" Our Neural Network container class.\n",
    "    \"\"\"\n",
    "    def __init__(self, layers):\n",
    "        self.layers = layers\n",
    "        \n",
    "    def _loss(self, X, Y):\n",
    "        Y_pred = self.predict(X)\n",
    "        return self.layers[-1].loss(Y, Y_pred)\n",
    "\n",
    "    def predict(self, X):\n",
    "        \"\"\" Calculate an output Y for the given input X. \"\"\"\n",
    "        Y_pred = X\n",
    "        for layer in self.layers:\n",
    "            Y_pred = layer.fprop(Y_pred)\n",
    "        return Y_pred\n",
    "    \n",
    "    def backpropagate(self, Y, Y_pred, upto=0):\n",
    "        \"\"\" Backpropagation of partial derivatives through \n",
    "            the complete network up to layer 'upto'\n",
    "        \"\"\"\n",
    "        next_grad = self.layers[-1].input_grad(Y, Y_pred)\n",
    "        for layer in reversed(self.layers[upto:-1]):\n",
    "            next_grad = layer.bprop(next_grad)\n",
    "        return next_grad\n",
    "    \n",
    "    def classification_error(self, X, Y):\n",
    "        \"\"\" Calculate error on the given data \n",
    "            assuming they are classes that should be predicted. \n",
    "        \"\"\"\n",
    "        Y_pred = unhot(self.predict(X))\n",
    "        error = Y_pred != Y\n",
    "        return np.mean(error)\n",
    "  \n",
    "    def sgd_epoch(self, X, Y, learning_rate, batch_size):\n",
    "        n_samples = X.shape[0]\n",
    "        n_batches = n_samples // batch_size\n",
    "        #ids=np.random.choice(n_samples,batch_size,replace=True)\n",
    "        for b in range(n_batches):\n",
    "            star_b = b*batch_size\n",
    "            last_b = star_b + batch_size\n",
    "            X_t = X[star_b:last_b]\n",
    "            Y_t = Y[star_b:last_b]\n",
    "            #X_t = X[ids]\n",
    "            #Y_t = Y[ids]\n",
    "            #Back/Forward prop\n",
    "            self.backpropagate(Y_t, self.predict(X_t))          \n",
    "\n",
    "            for layer in self.layers:\n",
    "                if isinstance (layer, Parameterized):\n",
    "                    layer.W -= learning_rate*layer.dW\n",
    "            star_b = last_b\n",
    "\n",
    "    \n",
    "    def gd_epoch(self, X, Y):\n",
    "        self.sgd_epoch(X, Y, learning_rate, X.shape[0]) #shove the whole dataset throught the network at once\n",
    "\n",
    "    def train(self, X, Y,X_valid=None,Y_valid=None, learning_rate=0.1, max_epochs=100, batch_size=64,\n",
    "              descent_type=\"sgd\", y_one_hot=True):\n",
    "        self.saveval = []\n",
    "        self.savetra = [] \n",
    "        \"\"\" Train network on the given data. \"\"\"\n",
    "        n_samples = X.shape[0]\n",
    "        n_batches = n_samples // batch_size\n",
    "\n",
    "        if y_one_hot:\n",
    "            Y_train = one_hot(Y)\n",
    "        else:\n",
    "            Y_train = Y\n",
    "        print(\"... starting training\")\n",
    "        for e in range(max_epochs+1):\n",
    "            if descent_type == \"sgd\":\n",
    "                self.sgd_epoch(X, Y_train, learning_rate, batch_size)\n",
    "            elif descent_type == \"gd\":\n",
    "                self.gd_epoch(X, Y_train, learning_rate)\n",
    "            else:\n",
    "                raise NotImplementedError(\"Unknown gradient descent type {}\".format(descent_type))\n",
    "\n",
    "            # Output error on the training data\n",
    "            train_loss = self._loss(X, Y_train)\n",
    "            train_error = self.classification_error(X, Y)\n",
    "\n",
    "\n",
    "            if X_valid.all()==None and Y_valid.all== None:\n",
    "                print('epoch {:.4f}, loss {:.4f}, train error {:.4%}'.format(e, train_loss, train_error))\n",
    "            else:\n",
    "                validation_error = self.classification_error(X_valid, Y_valid)\n",
    "                print('epoch {:.4f}, loss {:.4f}, train error {:.4%}, validation error ' \n",
    "                      '{:.4%}'.format(e, train_loss, train_error, validation_error))\n",
    "                valid_error = self.classification_error(X_valid, Y_valid)\n",
    "                #Save values for graph\n",
    "                self.savetra.append(train_error*100)\n",
    "                self.saveval.append(valid_error*100)\n",
    "        graph1 = plt.plot(nn.savetra,label='Training')\n",
    "        plt.setp(graph1, color='r', linewidth=2.0)\n",
    "        graph12 =plt.plot(nn.saveval,label='Validation')\n",
    "        plt.setp(graph12, color='b', linewidth=2.0)\n",
    "        #10 epoch\n",
    "        #plt.annotate('Training Error', xy=(6, 2), xytext=(7, 3.5),arrowprops=dict(facecolor='blue', shrink=0.001),)\n",
    "        #plt.annotate('Validation Error', xy=(2.5,5), xytext=(3.5,7),arrowprops=dict(facecolor='red', shrink=0.001),)\n",
    "        plt.xlabel('Epochs')\n",
    "        plt.ylabel('Error %')\n",
    "        plt.title('Training vs Valid Error')\n",
    "        plt.legend()\n",
    "        plt.show()\n",
    "\n",
    "    def check_gradients(self, X, Y):\n",
    "        \"\"\" Helper function to test the parameter gradients for\n",
    "        correctness. \"\"\"\n",
    "        for l, layer in enumerate(self.layers):\n",
    "            if isinstance(layer, Parameterized):\n",
    "                print('checking gradient for layer {}'.format(l))\n",
    "                for p, param in enumerate(layer.params()):\n",
    "                    # we iterate through all parameters\n",
    "                    param_shape = param.shape\n",
    "                    # define functions for conveniently swapping\n",
    "                    # out parameters of this specific layer and \n",
    "                    # computing loss and gradient with these \n",
    "                    # changed parametrs\n",
    "                    def output_given_params(param_new):\n",
    "                        \"\"\" A function that will compute the output \n",
    "                            of the network given a set of parameters\n",
    "                        \"\"\"\n",
    "                        # copy provided parameters\n",
    "                        param[:] = np.reshape(param_new, param_shape)\n",
    "                        # return computed loss\n",
    "                        return self._loss(X, Y)\n",
    "\n",
    "                    def grad_given_params(param_new):\n",
    "                        \"\"\"A function that will compute the gradient \n",
    "                           of the network given a set of parameters\n",
    "                        \"\"\"\n",
    "                        # copy provided parameters\n",
    "                        param[:] = np.reshape(param_new, param_shape)\n",
    "                        # Forward propagation through the net\n",
    "                        Y_pred = self.predict(X)\n",
    "                        # Backpropagation of partial derivatives\n",
    "                        self.backpropagate(Y, Y_pred, upto=l)\n",
    "                        # return the computed gradient \n",
    "                        return np.ravel(self.layers[l].grad_params()[p])\n",
    "\n",
    "                    # let the initial parameters be the ones that\n",
    "                    # are currently placed in the network and flatten them\n",
    "                    # to a vector for convenient comparisons, printing etc.\n",
    "                    param_init = np.ravel(np.copy(param))\n",
    "                    \n",
    "                    epsilon = 1e-4\n",
    "                    \n",
    "                    loss_base = output_given_params(param_init)\n",
    "                    gparam_bprop = grad_given_params(param_init)\n",
    "                    #      finite differences\n",
    "                    gparam_fd = np.zeros_like(param_init)\n",
    "                    \n",
    "                    param_cap = np.zeros_like(param_init) ## then run this\n",
    "                    for e in range(len(param_init)):\n",
    "                        param_cap = np.copy(param_init)\n",
    "                        param_cap[e] = param_cap[e] + epsilon\n",
    "                        gparam_fd[e] = (output_given_params(param_cap) - loss_base)/epsilon\n",
    "                        \n",
    "                    # calculate difference between them                        \n",
    "                    err = np.mean(np.abs(gparam_fd - gparam_bprop))\n",
    "                    print('diff {:.2e}'.format(err))\n",
    "                    # reset the parameters to their initial values\n",
    "                    param[:] = np.reshape(param_init, param_shape)"
   ]
  },
  {
   "cell_type": "markdown",
   "metadata": {
    "colab_type": "text",
    "id": "nrsf9fsko434"
   },
   "source": [
    "# Gradient Checking\n",
    "After implementing everything it is always a good idea to setup some layers and perform gradient\n",
    "checking on random data. **Note** that this is only an example! It is not a useful network architecture ;). We also expect you to play around with this to test all your implemented components."
   ]
  },
  {
   "cell_type": "code",
   "execution_count": 5,
   "metadata": {
    "colab": {},
    "colab_type": "code",
    "id": "7vkciOmCo438"
   },
   "outputs": [],
   "source": [
    "input_shape = (5, 10)\n",
    "n_labels = 6\n",
    "layers = [InputLayer(input_shape)]\n",
    "\n",
    "layers.append(FullyConnectedLayer(\n",
    "                layers[-1],\n",
    "                num_units=15,\n",
    "                init_stddev=0.1,\n",
    "                activation_fun=Activation('relu')\n",
    "))\n",
    "layers.append(FullyConnectedLayer(\n",
    "                layers[-1],\n",
    "                num_units=6,\n",
    "                init_stddev=0.1,\n",
    "                activation_fun=Activation('tanh')\n",
    "))\n",
    "layers.append(FullyConnectedLayer(\n",
    "                layers[-1],\n",
    "                num_units=n_labels,\n",
    "                init_stddev=0.1,\n",
    "                activation_fun=Activation('relu')\n",
    "))\n",
    "layers.append(SoftmaxOutput(layers[-1]))\n",
    "nn = NeuralNetwork(layers)"
   ]
  },
  {
   "cell_type": "code",
   "execution_count": 6,
   "metadata": {
    "colab": {},
    "colab_type": "code",
    "id": "5lG0vRYRo44B"
   },
   "outputs": [],
   "source": [
    "# create random data\n",
    "X = np.random.normal(size=input_shape)\n",
    "# and random labels\n",
    "Y = np.zeros((input_shape[0], n_labels))\n",
    "for i in range(Y.shape[0]):\n",
    "    idx = np.random.randint(n_labels)\n",
    "    Y[i, idx] = 1."
   ]
  },
  {
   "cell_type": "code",
   "execution_count": 7,
   "metadata": {
    "colab": {
     "base_uri": "https://localhost:8080/",
     "height": 182
    },
    "colab_type": "code",
    "executionInfo": {
     "elapsed": 579,
     "status": "ok",
     "timestamp": 1540914952959,
     "user": {
      "displayName": "Kevin Ali Beltran Ramirez",
      "photoUrl": "",
      "userId": "01911486777007432524"
     },
     "user_tz": -60
    },
    "id": "TCIfCjcuo44I",
    "outputId": "99c0ef45-48a1-4ce5-a17b-4fa41d4dff53"
   },
   "outputs": [
    {
     "name": "stdout",
     "output_type": "stream",
     "text": [
      "checking gradient for layer 1\n",
      "diff 8.34e-09\n",
      "diff 3.65e-03\n",
      "checking gradient for layer 2\n",
      "diff 1.84e-08\n",
      "diff 1.15e-02\n",
      "checking gradient for layer 3\n",
      "diff 1.86e-08\n",
      "diff 8.02e-02\n"
     ]
    }
   ],
   "source": [
    "nn.check_gradients(X, Y)"
   ]
  },
  {
   "cell_type": "markdown",
   "metadata": {
    "colab_type": "text",
    "id": "NCopszDno44W"
   },
   "source": [
    "# Training on MNIST\n",
    "Finally we can let our network run on the MNIST dataset!"
   ]
  },
  {
   "cell_type": "markdown",
   "metadata": {
    "colab_type": "text",
    "id": "uRAl8e7ko44Y"
   },
   "source": [
    "First load the data and reshape it."
   ]
  },
  {
   "cell_type": "code",
   "execution_count": 8,
   "metadata": {
    "colab": {
     "base_uri": "https://localhost:8080/",
     "height": 54
    },
    "colab_type": "code",
    "executionInfo": {
     "elapsed": 1797,
     "status": "ok",
     "timestamp": 1540915294459,
     "user": {
      "displayName": "Kevin Ali Beltran Ramirez",
      "photoUrl": "",
      "userId": "01911486777007432524"
     },
     "user_tz": -60
    },
    "id": "Z47qm0hto44a",
    "outputId": "538c0c02-2609-488f-ed26-51e0841b16a2"
   },
   "outputs": [
    {
     "name": "stdout",
     "output_type": "stream",
     "text": [
      "... loading data\n",
      "... done loading data\n"
     ]
    }
   ],
   "source": [
    "# load\n",
    "Dtrain, Dval, Dtest = mnist()\n",
    "X_train, y_train = Dtrain\n",
    "X_valid, y_valid = Dval\n",
    "X_test, y_test = Dtest\n",
    "n_train = 40000\n",
    "train_id = np.random.permutation(X_train.shape[0])[:n_train]\n",
    "X_train = X_train[train_id]\n",
    "y_train = y_train[train_id]"
   ]
  },
  {
   "cell_type": "markdown",
   "metadata": {
    "colab_type": "text",
    "id": "77jMceDao44k"
   },
   "source": [
    "*Dtrain* contains 50k images which are of size 28 x 28 pixels. Hence:"
   ]
  },
  {
   "cell_type": "code",
   "execution_count": 9,
   "metadata": {
    "colab": {
     "base_uri": "https://localhost:8080/",
     "height": 72
    },
    "colab_type": "code",
    "executionInfo": {
     "elapsed": 514,
     "status": "ok",
     "timestamp": 1540915071175,
     "user": {
      "displayName": "Kevin Ali Beltran Ramirez",
      "photoUrl": "",
      "userId": "01911486777007432524"
     },
     "user_tz": -60
    },
    "id": "-9jaa8B7o44l",
    "outputId": "a1629734-8160-44fc-e4f6-c0629f5362b0"
   },
   "outputs": [
    {
     "name": "stdout",
     "output_type": "stream",
     "text": [
      "X_train shape: (40000, 1, 28, 28)\n",
      "y_train shape: (40000,)\n",
      "X_valid shape: (10000, 1, 28, 28)\n"
     ]
    }
   ],
   "source": [
    "print(\"X_train shape: {}\".format(np.shape(X_train)))\n",
    "print(\"y_train shape: {}\".format(np.shape(y_train)))\n",
    "print(\"X_valid shape: {}\".format(np.shape(X_test)))"
   ]
  },
  {
   "cell_type": "markdown",
   "metadata": {
    "colab_type": "text",
    "id": "VGVRHayio44w"
   },
   "source": [
    "y_train will automatically be converted in the *train()* function to one_hot encoding.\n",
    "\n",
    "\n",
    "But we need to reshape X_train, as our Network expects flat vectors of size 28*28 as input!"
   ]
  },
  {
   "cell_type": "code",
   "execution_count": 10,
   "metadata": {
    "colab": {
     "base_uri": "https://localhost:8080/",
     "height": 72
    },
    "colab_type": "code",
    "executionInfo": {
     "elapsed": 545,
     "status": "ok",
     "timestamp": 1540915316015,
     "user": {
      "displayName": "Kevin Ali Beltran Ramirez",
      "photoUrl": "",
      "userId": "01911486777007432524"
     },
     "user_tz": -60
    },
    "id": "32h6bO9-o44x",
    "outputId": "3bf00651-747c-4451-ff2b-373693e510b5"
   },
   "outputs": [
    {
     "name": "stdout",
     "output_type": "stream",
     "text": [
      "Reshaped X_train size: (40000, 784)\n",
      "Reshaped X_valid size: (10000, 784)\n",
      "Reshaped X_test size: (10000, 784)\n"
     ]
    }
   ],
   "source": [
    "X_train = X_train.reshape(X_train.shape[0], -1)\n",
    "print(\"Reshaped X_train size: {}\".format(X_train.shape))\n",
    "X_valid = X_valid.reshape((X_valid.shape[0], -1))\n",
    "print(\"Reshaped X_valid size: {}\".format(X_valid.shape))\n",
    "X_test = X_test.reshape((X_test.shape[0], -1))\n",
    "print(\"Reshaped X_test size: {}\".format(X_test.shape))"
   ]
  },
  {
   "cell_type": "markdown",
   "metadata": {
    "colab_type": "text",
    "id": "XuLPoeWpo448"
   },
   "source": [
    "Ah, much better ;-)! \n",
    "\n",
    "Now we can finally really start training a Network!\n",
    "\n",
    "\n",
    "I pre-defined a small Network for you below. Again This is not really a good default and will not produce state of the art results. Please play around with this a bit. See how different activation functions and training procedures (gd / sgd) affect the result."
   ]
  },
  {
   "cell_type": "code",
   "execution_count": 11,
   "metadata": {
    "colab": {
     "base_uri": "https://localhost:8080/",
     "height": 615
    },
    "colab_type": "code",
    "executionInfo": {
     "elapsed": 127577,
     "status": "ok",
     "timestamp": 1540915642875,
     "user": {
      "displayName": "Kevin Ali Beltran Ramirez",
      "photoUrl": "",
      "userId": "01911486777007432524"
     },
     "user_tz": -60
    },
    "id": "xHdSzXqio44_",
    "outputId": "48d90b06-3932-4d5d-d163-66fbb55e3053"
   },
   "outputs": [
    {
     "name": "stdout",
     "output_type": "stream",
     "text": [
      "... starting training\n",
      "epoch 0.0000, loss 0.2035, train error 5.8475%, validation error 5.4600%\n",
      "epoch 1.0000, loss 0.1098, train error 3.1550%, validation error 3.7100%\n",
      "epoch 2.0000, loss 0.0729, train error 2.1600%, validation error 3.1500%\n",
      "epoch 3.0000, loss 0.0562, train error 1.6775%, validation error 3.0200%\n",
      "epoch 4.0000, loss 0.0494, train error 1.5950%, validation error 2.9500%\n",
      "epoch 5.0000, loss 0.0379, train error 1.2550%, validation error 2.7800%\n",
      "epoch 6.0000, loss 0.0283, train error 0.9100%, validation error 2.5600%\n",
      "epoch 7.0000, loss 0.0174, train error 0.4925%, validation error 2.2900%\n",
      "epoch 8.0000, loss 0.0123, train error 0.3150%, validation error 2.3100%\n",
      "epoch 9.0000, loss 0.0080, train error 0.1800%, validation error 2.2000%\n",
      "epoch 10.0000, loss 0.0057, train error 0.1175%, validation error 2.0800%\n",
      "epoch 11.0000, loss 0.0037, train error 0.0625%, validation error 2.0000%\n",
      "epoch 12.0000, loss 0.0026, train error 0.0250%, validation error 2.0300%\n",
      "epoch 13.0000, loss 0.0020, train error 0.0125%, validation error 1.9900%\n",
      "epoch 14.0000, loss 0.0016, train error 0.0025%, validation error 1.9400%\n",
      "epoch 15.0000, loss 0.0013, train error 0.0025%, validation error 1.9100%\n",
      "epoch 16.0000, loss 0.0011, train error 0.0025%, validation error 1.9300%\n",
      "epoch 17.0000, loss 0.0009, train error 0.0000%, validation error 1.9200%\n",
      "epoch 18.0000, loss 0.0008, train error 0.0000%, validation error 1.9300%\n",
      "epoch 19.0000, loss 0.0007, train error 0.0000%, validation error 1.9000%\n",
      "epoch 20.0000, loss 0.0006, train error 0.0000%, validation error 1.9000%\n",
      "epoch 21.0000, loss 0.0006, train error 0.0000%, validation error 1.9000%\n",
      "epoch 22.0000, loss 0.0005, train error 0.0000%, validation error 1.8800%\n",
      "epoch 23.0000, loss 0.0005, train error 0.0000%, validation error 1.8800%\n",
      "epoch 24.0000, loss 0.0005, train error 0.0000%, validation error 1.8600%\n",
      "epoch 25.0000, loss 0.0004, train error 0.0000%, validation error 1.8600%\n",
      "epoch 26.0000, loss 0.0004, train error 0.0000%, validation error 1.8600%\n",
      "epoch 27.0000, loss 0.0004, train error 0.0000%, validation error 1.8600%\n",
      "epoch 28.0000, loss 0.0003, train error 0.0000%, validation error 1.8600%\n",
      "epoch 29.0000, loss 0.0003, train error 0.0000%, validation error 1.8600%\n",
      "epoch 30.0000, loss 0.0003, train error 0.0000%, validation error 1.8600%\n",
      "epoch 31.0000, loss 0.0003, train error 0.0000%, validation error 1.8500%\n",
      "epoch 32.0000, loss 0.0003, train error 0.0000%, validation error 1.8500%\n",
      "epoch 33.0000, loss 0.0003, train error 0.0000%, validation error 1.8500%\n",
      "epoch 34.0000, loss 0.0003, train error 0.0000%, validation error 1.8500%\n",
      "epoch 35.0000, loss 0.0002, train error 0.0000%, validation error 1.8500%\n",
      "epoch 36.0000, loss 0.0002, train error 0.0000%, validation error 1.8400%\n",
      "epoch 37.0000, loss 0.0002, train error 0.0000%, validation error 1.8400%\n",
      "epoch 38.0000, loss 0.0002, train error 0.0000%, validation error 1.8400%\n",
      "epoch 39.0000, loss 0.0002, train error 0.0000%, validation error 1.8400%\n",
      "epoch 40.0000, loss 0.0002, train error 0.0000%, validation error 1.8400%\n"
     ]
    },
    {
     "data": {
      "image/png": "[encoded data removed]",
      "text/plain": [
       "<Figure size 432x288 with 1 Axes>"
      ]
     },
     "metadata": {
      "needs_background": "light"
     },
     "output_type": "display_data"
    },
    {
     "name": "stdout",
     "output_type": "stream",
     "text": [
      "Duration: 285.2s\n"
     ]
    }
   ],
   "source": [
    "import time\n",
    "\n",
    "# Setup a small MLP / Neural Network\n",
    "# we can set the first shape to None here to indicate that\n",
    "# we will input a variable number inputs to the network\n",
    "input_shape = (None, 28*28)\n",
    "layers = [InputLayer(input_shape)]\n",
    "layers.append(FullyConnectedLayer(\n",
    "                layers[-1],\n",
    "                num_units=500,\n",
    "                init_stddev=0.01,\n",
    "                activation_fun=Activation('relu')\n",
    "))\n",
    "layers.append(FullyConnectedLayer(\n",
    "                layers[-1],\n",
    "                num_units=300,\n",
    "                init_stddev=0.01,\n",
    "                activation_fun=Activation('relu')\n",
    "    ))\n",
    "layers.append(FullyConnectedLayer(\n",
    "                layers[-1],\n",
    "                num_units=10,\n",
    "                init_stddev=0.01,\n",
    "                # last layer has no nonlinearity \n",
    "                # (softmax will be applied in the output layer)\n",
    "                activation_fun=None \n",
    "    \n",
    "))\n",
    "layers.append(SoftmaxOutput(layers[-1]))\n",
    "\n",
    "nn = NeuralNetwork(layers)\n",
    "# Train neural network\n",
    "t0 = time.time()\n",
    "nn.train(X_train, y_train, X_valid, y_valid, learning_rate=0.23, \n",
    "         max_epochs=40, batch_size=64, descent_type=\"sgd\", y_one_hot=True)\n",
    "t1 = time.time()\n",
    "print('Duration: {:.1f}s'.format(t1-t0))"
   ]
  },
  {
   "cell_type": "markdown",
   "metadata": {
    "colab_type": "text",
    "collapsed": true,
    "id": "zq2lp-8-o45G"
   },
   "source": [
    "# Figure out a reasonable Network that achieves good performance\n",
    "As the last part of this task, setup a network that works well and gets reasonable accuracy, say ~ 1-3 percent error on the **validation set**. \n",
    "Train this network on the complete data and compute the **test error**. \n",
    "\n",
    "Visualize the validation loss and training loss for each iteration in a plot, e.g. using matplotlib"
   ]
  },
  {
   "cell_type": "code",
   "execution_count": null,
   "metadata": {
    "colab": {},
    "colab_type": "code",
    "id": "RSbRiLS2o45I",
    "outputId": "6ddd5e42-e72b-4a5d-e47f-b3ed264ea34d"
   },
   "outputs": [],
   "source": [
    "Y_hat_ts = unhot(nn.predict(X_test))\n",
    "Right = []\n",
    "Wrong = []\n",
    "\n",
    "i=0\n",
    "while i <   len(Y_hat_ts): \n",
    "    if Y_hat_ts[i] != y_test[i]:\n",
    "        Wrong.append(i)\n",
    "    if Y_hat_ts[i] == y_test[i]:\n",
    "        Right.append(i)\n",
    "    i = i+1\n",
    "\n",
    "#Choose numbers of Right images to show\n",
    "n_Right = 2\n",
    "for j in range (0,n_Right):\n",
    "    plt.imshow(X_test[Right[j],:].reshape(28,28),cmap=\"jet\")\n",
    "    plt.axis(\"off\")\n",
    "    plt.show()\n",
    "    print (\"Predicted number: {}\".format(Y_hat_ts[Right[j]]))\n",
    "    print (\"Right number: {}\".format(y_test[Right[j]]))\n",
    "    \n",
    "\n",
    "    #Choose numbers of wrong images to show\n",
    "n_Wrong = 2\n",
    "for k in range (0,n_Wrong):\n",
    "    plt.imshow(X_test[Wrong[k],:].reshape(28,28),cmap=\"jet\")\n",
    "    plt.axis(\"off\")\n",
    "    plt.show()\n",
    "    print (\"Predicted number: {}\".format(Y_hat_ts[Wrong[k]])) \n",
    "    print (\"Right number: {}\".format(y_test[Wrong[k]])) \n"
   ]
  },
  {
   "cell_type": "code",
   "execution_count": null,
   "metadata": {},
   "outputs": [],
   "source": []
  },
  {
   "cell_type": "code",
   "execution_count": null,
   "metadata": {
    "colab": {},
    "colab_type": "code",
    "id": "FEn9PhWpo45S"
   },
   "outputs": [],
   "source": []
  }
 ],
 "metadata": {
  "colab": {
   "collapsed_sections": [],
   "name": "Copy of exercise_1.ipynb",
   "provenance": [
    {
     "file_id": "15I7BCi88lLKZml8La6lmvTmOWn6nD35_",
     "timestamp": 1540915670895
    }
   ],
   "version": "0.3.2"
  },
  "kernelspec": {
   "display_name": "Python 3",
   "language": "python",
   "name": "python3"
  },
  "language_info": {
   "codemirror_mode": {
    "name": "ipython",
    "version": 3
   },
   "file_extension": ".py",
   "mimetype": "text/x-python",
   "name": "python",
   "nbconvert_exporter": "python",
   "pygments_lexer": "ipython3",
   "version": "3.5.2"
  }
 },
 "nbformat": 4,
 "nbformat_minor": 1
}
